{
 "cells": [
  {
   "cell_type": "code",
   "execution_count": 1,
   "metadata": {},
   "outputs": [
    {
     "name": "stdout",
     "output_type": "stream",
     "text": [
      "Your age is greater than 18\n"
     ]
    }
   ],
   "source": [
    "## If statement\n",
    "age = 32\n",
    "\n",
    "if age >= 18:\n",
    "    print(\"Your age is greater than 18\")"
   ]
  },
  {
   "cell_type": "code",
   "execution_count": 2,
   "metadata": {},
   "outputs": [
    {
     "name": "stdout",
     "output_type": "stream",
     "text": [
      "You are a minor\n"
     ]
    }
   ],
   "source": [
    "## else statemnt\n",
    "\n",
    "age = 16\n",
    "if age >= 18:\n",
    "    print(\"Your age is greater than 18\")\n",
    "else:\n",
    "    print(\"You are a minor\")\n"
   ]
  },
  {
   "cell_type": "code",
   "execution_count": 4,
   "metadata": {},
   "outputs": [
    {
     "name": "stdout",
     "output_type": "stream",
     "text": [
      "You are a teenager\n"
     ]
    }
   ],
   "source": [
    "## elif\n",
    "\n",
    "age = 14\n",
    "\n",
    "if age<13:\n",
    "    print(\"You are a child\")\n",
    "elif age<18:\n",
    "    print(\"You are a teenager\")\n",
    "else:\n",
    "    print(\"You are an adult\")"
   ]
  },
  {
   "cell_type": "code",
   "execution_count": 7,
   "metadata": {},
   "outputs": [
    {
     "name": "stdout",
     "output_type": "stream",
     "text": [
      "Number is negative\n"
     ]
    }
   ],
   "source": [
    "## nested conditional statement\n",
    "\n",
    "num = int(input(\"Enter the number\"))\n",
    "\n",
    "if num >= 0:\n",
    "    print(\"Number is positive\")\n",
    "    if num%2 == 0:\n",
    "        print(\"The number is Even\")\n",
    "    else:\n",
    "        print(\"The number is odd\")\n",
    "else:\n",
    "    print(\"Number is negative\")"
   ]
  },
  {
   "cell_type": "code",
   "execution_count": 5,
   "metadata": {},
   "outputs": [
    {
     "name": "stdout",
     "output_type": "stream",
     "text": [
      "1700 is not a leap year\n"
     ]
    }
   ],
   "source": [
    "## Practical Example\n",
    "## Determine if a year is a leap year using nested condition statement\n",
    "\n",
    "year = int(input(\"Enter the year\"))\n",
    "\n",
    "if year%4 == 0:\n",
    "    if year%100==0:\n",
    "        if year%400==0:\n",
    "            print(year,\"is a leap year\")\n",
    "        else:\n",
    "            print(year,\"is not a leap year\")\n",
    "    else:\n",
    "        print(year,\"is a leap year\")\n",
    "else:\n",
    "    print(year,\"is not a leap year\")\n",
    "\n",
    "\n",
    "\n"
   ]
  },
  {
   "cell_type": "code",
   "execution_count": null,
   "metadata": {},
   "outputs": [
    {
     "name": "stdout",
     "output_type": "stream",
     "text": [
      "Result: Error!Division by zero.\n"
     ]
    }
   ],
   "source": [
    "## Assignment\n",
    "## Simple calculator\n",
    "\n",
    "num1 = float(input(\"Enter the num1\"))\n",
    "num2 = float(input(\"Enter the num2\"))\n",
    "operation = input(\"Enter the operation (+,-,*,/):\")\n",
    "\n",
    "if operation == \"+\":\n",
    "    result = num1 + num2\n",
    "elif operation == \"-\":\n",
    "    result = num1 - num2\n",
    "elif operation == \"*\":\n",
    "    result = num1 * num2\n",
    "elif operation == \"/\":\n",
    "    if num2 != 0:\n",
    "        result = num1/num2\n",
    "    else:\n",
    "        result = \"Error!Division by zero.\"\n",
    "else:\n",
    "    result = \"Invalid operation\"\n",
    "\n",
    "print(\"Result:\",result)\n",
    "        \n",
    "\n"
   ]
  },
  {
   "cell_type": "code",
   "execution_count": 6,
   "metadata": {},
   "outputs": [
    {
     "name": "stdout",
     "output_type": "stream",
     "text": [
      "Price :  700\n"
     ]
    }
   ],
   "source": [
    "# Determine the ticket price based on age and whether the person is student\n",
    "\n",
    "age = int(input(\"Enter the age\"))\n",
    "is_student = input(\"Are you a student (yes/no) : \").lower()\n",
    "\n",
    "if age < 5:\n",
    "    price = \"Free\"\n",
    "elif age < 17:\n",
    "    if is_student == \"yes\":\n",
    "        price = 300\n",
    "    else:\n",
    "        price = 500\n",
    "elif age < 64:\n",
    "    if is_student == \"yes\":\n",
    "        price = 700\n",
    "    else:\n",
    "        price = 900\n",
    "else:\n",
    "    price = 1000\n",
    "\n",
    "print(\"Price : \",price)"
   ]
  },
  {
   "cell_type": "code",
   "execution_count": null,
   "metadata": {},
   "outputs": [],
   "source": []
  }
 ],
 "metadata": {
  "kernelspec": {
   "display_name": "Python 3",
   "language": "python",
   "name": "python3"
  },
  "language_info": {
   "codemirror_mode": {
    "name": "ipython",
    "version": 3
   },
   "file_extension": ".py",
   "mimetype": "text/x-python",
   "name": "python",
   "nbconvert_exporter": "python",
   "pygments_lexer": "ipython3",
   "version": "3.12.0"
  }
 },
 "nbformat": 4,
 "nbformat_minor": 2
}
