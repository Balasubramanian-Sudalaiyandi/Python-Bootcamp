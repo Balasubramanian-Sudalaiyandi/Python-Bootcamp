{
 "cells": [
  {
   "cell_type": "code",
   "execution_count": 1,
   "metadata": {},
   "outputs": [],
   "source": [
    "## List Examples"
   ]
  },
  {
   "cell_type": "markdown",
   "metadata": {},
   "source": [
    "Example 1. Manage to do list\n",
    "\n",
    "    1.Create a to do list to keep track of Task"
   ]
  },
  {
   "cell_type": "code",
   "execution_count": 5,
   "metadata": {},
   "outputs": [
    {
     "name": "stdout",
     "output_type": "stream",
     "text": [
      "Don't forget to pay the bills\n",
      "To do List Remaining\n",
      "-Buy Groceries\n",
      "-Pay Bills\n",
      "-Schedule a meeting\n",
      "-Go for a run\n"
     ]
    }
   ],
   "source": [
    "to_do_list = [\"Buy Groceries\",\"Cleaning the house\",\"Pay Bills\"]\n",
    "\n",
    "## Adding the task\n",
    "\n",
    "to_do_list.append(\"Schedule a meeting\")\n",
    "to_do_list.append(\"Go for a run\")\n",
    "\n",
    "##Removing the task\n",
    "to_do_list.remove(\"Cleaning the house\")\n",
    "\n",
    "if \"Pay Bills\" in to_do_list:\n",
    "    print(\"Don't forget to pay the bills\")\n",
    "\n",
    "print(\"To do List Remaining\")\n",
    "for task in to_do_list:\n",
    "    print(f\"-{task}\")\n",
    "\n"
   ]
  },
  {
   "cell_type": "code",
   "execution_count": 7,
   "metadata": {},
   "outputs": [
    {
     "name": "stdout",
     "output_type": "stream",
     "text": [
      "Average grades : 92.50\n",
      "Highest grades : 99.00\n",
      "Lowest grades : 85.00\n"
     ]
    }
   ],
   "source": [
    "##Grades\n",
    "\n",
    "grades = [85,88,90,95,98]\n",
    "\n",
    "grades.append(99)\n",
    "\n",
    "average_grades = sum(grades) / len(grades)\n",
    "\n",
    "print(f\"Average grades : {average_grades:.2f}\")\n",
    "\n",
    "highest_grades = max(grades)\n",
    "lowest_grades = min(grades)\n",
    "\n",
    "print(f\"Highest grades : {highest_grades:.2f}\")\n",
    "print(f\"Lowest grades : {lowest_grades:.2f}\")"
   ]
  },
  {
   "cell_type": "code",
   "execution_count": 8,
   "metadata": {},
   "outputs": [
    {
     "name": "stdout",
     "output_type": "stream",
     "text": [
      "Oranges are in stock\n",
      "Inventory List\n",
      "- Apples\n",
      "- Oranges\n",
      "- Pine Apples\n",
      "- Strawberry\n"
     ]
    }
   ],
   "source": [
    "## Managing the inventory\n",
    "\n",
    "inventory = [\"Apples\",\"Bananas\",\"Oranges\",\"Pine Apples\"]\n",
    "\n",
    "inventory.append(\"Strawberry\")\n",
    "\n",
    "inventory.remove(\"Bananas\")\n",
    "\n",
    "item = \"Oranges\"\n",
    "\n",
    "if item in inventory:\n",
    "    print(f\"{item} are in stock\")\n",
    "else:\n",
    "    print(f\"{item} are out of stock\")\n",
    "\n",
    "print(\"Inventory List\")\n",
    "\n",
    "for item in inventory:\n",
    "    print(f\"- {item}\")"
   ]
  },
  {
   "cell_type": "code",
   "execution_count": 9,
   "metadata": {},
   "outputs": [
    {
     "name": "stdout",
     "output_type": "stream",
     "text": [
      "Positive Feedback Count: 2\n",
      "User Feedback:\n",
      "- Great service!\n",
      "- Very satisfied\n",
      "- Could be better\n",
      "- Excellent experience\n",
      "- Not happy with the service\n"
     ]
    }
   ],
   "source": [
    "# Collecting user feedback\n",
    "feedback = [\"Great service!\", \"Very satisfied\", \"Could be better\", \"Excellent experience\"]\n",
    "\n",
    "# Adding new feedback\n",
    "feedback.append(\"Not happy with the service\")\n",
    "\n",
    "# Counting specific feedback\n",
    "positive_feedback_count = sum(1 for comment in feedback if \"great\" in comment.lower() or \"excellent\" in comment.lower())\n",
    "print(f\"Positive Feedback Count: {positive_feedback_count}\")\n",
    "\n",
    "# Printing all feedback\n",
    "print(\"User Feedback:\")\n",
    "for comment in feedback:\n",
    "    print(f\"- {comment}\")\n"
   ]
  },
  {
   "cell_type": "code",
   "execution_count": 11,
   "metadata": {},
   "outputs": [
    {
     "name": "stdout",
     "output_type": "stream",
     "text": [
      "1 - 100\n",
      "101 - 200\n",
      "201 - 300\n",
      "301 - 400\n",
      "401 - 500\n",
      "501 - 600\n",
      "601 - 700\n",
      "701 - 800\n",
      "801 - 900\n",
      "901 - 1000\n",
      "1001 - 1100\n",
      "1101 - 1200\n",
      "1201 - 1300\n",
      "1301 - 1400\n",
      "1401 - 1500\n",
      "1501 - 1600\n",
      "1601 - 1700\n",
      "1701 - 1800\n",
      "1801 - 1900\n",
      "1901 - 2000\n",
      "2001 - 2100\n",
      "2101 - 2200\n",
      "2201 - 2300\n",
      "2301 - 2400\n",
      "2401 - 2500\n",
      "2501 - 2600\n",
      "2601 - 2700\n",
      "2701 - 2800\n",
      "2801 - 2900\n",
      "2901 - 3000\n",
      "3001 - 3100\n",
      "3101 - 3200\n",
      "3201 - 3300\n",
      "3301 - 3400\n",
      "3401 - 3500\n",
      "3501 - 3600\n",
      "3601 - 3700\n",
      "3701 - 3800\n",
      "3801 - 3900\n",
      "3901 - 4000\n",
      "4001 - 4100\n",
      "4101 - 4200\n",
      "4201 - 4300\n",
      "4301 - 4400\n",
      "4401 - 4500\n",
      "4501 - 4600\n",
      "4601 - 4700\n",
      "4701 - 4800\n",
      "4801 - 4900\n",
      "4901 - 5000\n",
      "5001 - 5100\n",
      "5101 - 5200\n",
      "5201 - 5300\n",
      "5301 - 5400\n",
      "5401 - 5500\n",
      "5501 - 5600\n",
      "5601 - 5700\n",
      "5701 - 5800\n",
      "5801 - 5900\n",
      "5901 - 6000\n",
      "6001 - 6100\n",
      "6101 - 6200\n",
      "6201 - 6300\n",
      "6301 - 6400\n",
      "6401 - 6500\n",
      "6501 - 6600\n",
      "6601 - 6700\n",
      "6701 - 6800\n",
      "6801 - 6900\n",
      "6901 - 7000\n",
      "7001 - 7100\n",
      "7101 - 7200\n",
      "7201 - 7300\n",
      "7301 - 7400\n",
      "7401 - 7500\n",
      "7501 - 7600\n",
      "7601 - 7700\n",
      "7701 - 7800\n",
      "7801 - 7900\n",
      "7901 - 8000\n",
      "8001 - 8100\n",
      "8101 - 8200\n",
      "8201 - 8300\n",
      "8301 - 8400\n",
      "8401 - 8500\n",
      "8501 - 8600\n",
      "8601 - 8700\n",
      "8701 - 8800\n",
      "8801 - 8900\n",
      "8901 - 9000\n",
      "9001 - 9100\n",
      "9101 - 9200\n",
      "9201 - 9300\n",
      "9301 - 9400\n",
      "9401 - 9500\n",
      "9501 - 9600\n",
      "9601 - 9700\n",
      "9701 - 9800\n",
      "9801 - 9900\n",
      "9901 - 10000\n",
      "10001 - 10100\n",
      "10101 - 10200\n",
      "10201 - 10300\n",
      "10301 - 10400\n",
      "10401 - 10500\n",
      "10501 - 10600\n",
      "10601 - 10700\n",
      "10701 - 10800\n",
      "10801 - 10900\n",
      "10901 - 11000\n",
      "11001 - 11100\n",
      "11101 - 11200\n",
      "11201 - 11300\n",
      "11301 - 11400\n",
      "11401 - 11500\n",
      "11501 - 11600\n",
      "11601 - 11700\n",
      "11701 - 11800\n",
      "11801 - 11900\n",
      "11901 - 12000\n",
      "12001 - 12100\n",
      "12101 - 12200\n",
      "12201 - 12300\n",
      "12301 - 12400\n",
      "12401 - 12500\n",
      "12501 - 12600\n",
      "12601 - 12700\n",
      "12701 - 12800\n",
      "12801 - 12900\n",
      "12901 - 13000\n",
      "13001 - 13100\n",
      "13101 - 13200\n",
      "13201 - 13300\n",
      "13301 - 13400\n",
      "13401 - 13500\n",
      "13501 - 13600\n",
      "13601 - 13700\n",
      "13701 - 13800\n",
      "13801 - 13900\n",
      "13901 - 14000\n",
      "14001 - 14100\n",
      "14101 - 14200\n",
      "14201 - 14300\n",
      "14301 - 14400\n",
      "14401 - 14500\n",
      "14501 - 14600\n",
      "14601 - 14700\n",
      "14701 - 14800\n",
      "14801 - 14900\n",
      "14901 - 15000\n"
     ]
    }
   ],
   "source": [
    "for i in range(1,15001,100):\n",
    "    min_range = i\n",
    "    max_range = i + 99\n",
    "    print(f\"{min_range} - {max_range}\")"
   ]
  },
  {
   "cell_type": "code",
   "execution_count": null,
   "metadata": {},
   "outputs": [],
   "source": []
  }
 ],
 "metadata": {
  "kernelspec": {
   "display_name": "Python 3",
   "language": "python",
   "name": "python3"
  },
  "language_info": {
   "codemirror_mode": {
    "name": "ipython",
    "version": 3
   },
   "file_extension": ".py",
   "mimetype": "text/x-python",
   "name": "python",
   "nbconvert_exporter": "python",
   "pygments_lexer": "ipython3",
   "version": "3.12.0"
  }
 },
 "nbformat": 4,
 "nbformat_minor": 2
}
