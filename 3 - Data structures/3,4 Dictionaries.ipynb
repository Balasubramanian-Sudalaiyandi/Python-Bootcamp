{
 "cells": [
  {
   "cell_type": "code",
   "execution_count": 1,
   "metadata": {},
   "outputs": [
    {
     "name": "stdout",
     "output_type": "stream",
     "text": [
      "<class 'dict'>\n"
     ]
    }
   ],
   "source": [
    "## Creating dictionaries\n",
    "\n",
    "empty_dict = {}\n",
    "print(type(empty_dict))"
   ]
  },
  {
   "cell_type": "code",
   "execution_count": 2,
   "metadata": {},
   "outputs": [
    {
     "name": "stdout",
     "output_type": "stream",
     "text": [
      "{}\n"
     ]
    }
   ],
   "source": [
    "empty_dict = dict()\n",
    "print(empty_dict)"
   ]
  },
  {
   "cell_type": "code",
   "execution_count": 3,
   "metadata": {},
   "outputs": [
    {
     "name": "stdout",
     "output_type": "stream",
     "text": [
      "{'name': 'Bala', 'age': 26, 'gender': 'Male'}\n"
     ]
    }
   ],
   "source": [
    "student = {\"name\":\"Bala\",\"age\":26,\"gender\":\"Male\"}\n",
    "print(student)"
   ]
  },
  {
   "cell_type": "code",
   "execution_count": 4,
   "metadata": {},
   "outputs": [
    {
     "name": "stdout",
     "output_type": "stream",
     "text": [
      "{'name': 'Male', 'age': 26}\n"
     ]
    }
   ],
   "source": [
    "## Single keys are always used\n",
    "student = {\"name\":\"Bala\",\"age\":26,\"name\":\"Male\"}\n",
    "print(student)"
   ]
  },
  {
   "cell_type": "code",
   "execution_count": 9,
   "metadata": {},
   "outputs": [
    {
     "name": "stdout",
     "output_type": "stream",
     "text": [
      "Bala\n",
      "26\n",
      "A\n",
      "None\n",
      "Not available\n"
     ]
    }
   ],
   "source": [
    "#Accessing the dictionary\n",
    "student = {\"name\":\"Bala\",\"age\":26,\"Grade\":\"A\"}\n",
    "\n",
    "print(student [\"name\"])\n",
    "print(student [\"age\"])\n",
    "\n",
    "\n",
    "## Accessing using get\n",
    "\n",
    "print(student.get('Grade'))\n",
    "print(student.get(\"last_name\"))\n",
    "print(student.get('last_name',\"Not available\"))\n"
   ]
  },
  {
   "cell_type": "code",
   "execution_count": null,
   "metadata": {},
   "outputs": [
    {
     "name": "stdout",
     "output_type": "stream",
     "text": [
      "{'name': 'Bala', 'age': 26, 'Grade': 'A'}\n",
      "{'name': 'Bala', 'age': 33, 'Grade': 'A'}\n",
      "{'name': 'Bala', 'age': 33, 'Grade': 'A', 'Address': 'India'}\n"
     ]
    }
   ],
   "source": [
    "## Modify dictionary elements\n",
    "## Dictionary are mutable,so you can add,update or delete elemnts\n",
    "\n",
    "print(student)\n",
    "student[\"age\"]=33 ## Update key and value pair\n",
    "print(student)\n",
    "student[\"Address\"] = \"India\" ## Adding new key and value pair\n",
    "print(student)"
   ]
  },
  {
   "cell_type": "code",
   "execution_count": 13,
   "metadata": {},
   "outputs": [
    {
     "name": "stdout",
     "output_type": "stream",
     "text": [
      "{'name': 'Bala', 'age': 33, 'Address': 'India'}\n"
     ]
    }
   ],
   "source": [
    "del student[\"Grade\"] ## Deleting the key and value pair elements\n",
    "print(student)"
   ]
  },
  {
   "cell_type": "code",
   "execution_count": 17,
   "metadata": {},
   "outputs": [
    {
     "name": "stdout",
     "output_type": "stream",
     "text": [
      "dict_keys(['name', 'age', 'Address'])\n",
      "dict_values(['Bala', 33, 'India'])\n",
      "dict_items([('name', 'Bala'), ('age', 33), ('Address', 'India')])\n"
     ]
    }
   ],
   "source": [
    "## Dictionary methods\n",
    "\n",
    "keys = student.keys() ##get all the keys\n",
    "print(keys)\n",
    "values = student.values() ##get all the values\n",
    "print(values)\n",
    "\n",
    "items = student.items()\n",
    "print(items)\n"
   ]
  },
  {
   "cell_type": "code",
   "execution_count": 18,
   "metadata": {},
   "outputs": [
    {
     "name": "stdout",
     "output_type": "stream",
     "text": [
      "{'name': 'Bala', 'age': 33, 'Address': 'India'}\n",
      "{'name': 'Bala', 'age': 33, 'Address': 'India'}\n"
     ]
    }
   ],
   "source": [
    "## Shallow copy\n",
    "students_copy = student\n",
    "\n",
    "print(student)\n",
    "print(students_copy)"
   ]
  },
  {
   "cell_type": "code",
   "execution_count": 19,
   "metadata": {},
   "outputs": [
    {
     "name": "stdout",
     "output_type": "stream",
     "text": [
      "{'name': 'Bala1', 'age': 33, 'Address': 'India'}\n",
      "{'name': 'Bala1', 'age': 33, 'Address': 'India'}\n"
     ]
    }
   ],
   "source": [
    "student[\"name\"] = \"Bala1\"\n",
    "\n",
    "print(student)\n",
    "print(students_copy)"
   ]
  },
  {
   "cell_type": "code",
   "execution_count": 20,
   "metadata": {},
   "outputs": [
    {
     "name": "stdout",
     "output_type": "stream",
     "text": [
      "{'name': 'Bala1', 'age': 33, 'Address': 'India'}\n",
      "{'name': 'Bala1', 'age': 33, 'Address': 'India'}\n"
     ]
    }
   ],
   "source": [
    "student_copy1 = student.copy() ##Shallow copy\n",
    "print(student_copy1)\n",
    "print(student)"
   ]
  },
  {
   "cell_type": "code",
   "execution_count": 21,
   "metadata": {},
   "outputs": [
    {
     "name": "stdout",
     "output_type": "stream",
     "text": [
      "{'name': 'Bala1', 'age': 33, 'Address': 'India'}\n",
      "{'name': 'Bala', 'age': 33, 'Address': 'India'}\n"
     ]
    }
   ],
   "source": [
    "student[\"name\"] = \"Bala\"\n",
    "print(student_copy1)\n",
    "print(student)"
   ]
  },
  {
   "cell_type": "code",
   "execution_count": 23,
   "metadata": {},
   "outputs": [
    {
     "name": "stdout",
     "output_type": "stream",
     "text": [
      "name\n",
      "age\n",
      "Address\n"
     ]
    }
   ],
   "source": [
    "## Iterating over dictionary\n",
    "for key in student.keys():\n",
    "    print(key)"
   ]
  },
  {
   "cell_type": "code",
   "execution_count": 24,
   "metadata": {},
   "outputs": [
    {
     "name": "stdout",
     "output_type": "stream",
     "text": [
      "Bala\n",
      "33\n",
      "India\n"
     ]
    }
   ],
   "source": [
    "for values in student.values():\n",
    "    print(values)"
   ]
  },
  {
   "cell_type": "code",
   "execution_count": 26,
   "metadata": {},
   "outputs": [
    {
     "name": "stdout",
     "output_type": "stream",
     "text": [
      "name:Bala\n",
      "age:33\n",
      "Address:India\n"
     ]
    }
   ],
   "source": [
    "for key,value in student.items():\n",
    "    print(f\"{key}:{value}\")"
   ]
  },
  {
   "cell_type": "code",
   "execution_count": 29,
   "metadata": {},
   "outputs": [
    {
     "name": "stdout",
     "output_type": "stream",
     "text": [
      "{'student1': {'name': 'Bala', 'age': 26}, 'student2': {'name': 'Subramanian', 'age': 27}}\n"
     ]
    }
   ],
   "source": [
    "## Nested Dictionaries\n",
    "\n",
    "students = {\n",
    "    \"student1\":{\"name\":\"Bala\",\"age\":26},\n",
    "    \"student2\":{\"name\":\"Subramanian\",\"age\":27}\n",
    "}\n",
    "\n",
    "print(students)"
   ]
  },
  {
   "cell_type": "code",
   "execution_count": 30,
   "metadata": {},
   "outputs": [
    {
     "name": "stdout",
     "output_type": "stream",
     "text": [
      "Bala\n",
      "26\n"
     ]
    }
   ],
   "source": [
    "## Access nested dictionaries\n",
    "\n",
    "print(students[\"student1\"][\"name\"])\n",
    "print(students[\"student1\"][\"age\"])"
   ]
  },
  {
   "cell_type": "code",
   "execution_count": 32,
   "metadata": {},
   "outputs": [
    {
     "name": "stdout",
     "output_type": "stream",
     "text": [
      "student1:{'name': 'Bala', 'age': 26}\n",
      "name:Bala\n",
      "age:26\n",
      "student2:{'name': 'Subramanian', 'age': 27}\n",
      "name:Subramanian\n",
      "age:27\n"
     ]
    }
   ],
   "source": [
    "##Iterating over nested dictionaries\n",
    "for student_id,student_info in students.items():\n",
    "    print(f\"{student_id}:{student_info}\")\n",
    "    for key,value in student_info.items():\n",
    "        print(f\"{key}:{value}\")"
   ]
  },
  {
   "cell_type": "code",
   "execution_count": 34,
   "metadata": {},
   "outputs": [
    {
     "name": "stdout",
     "output_type": "stream",
     "text": [
      "{0: 0, 1: 1, 2: 4, 3: 9, 4: 16, 5: 25}\n"
     ]
    }
   ],
   "source": [
    "## Dictionary Comprehension\n",
    "squares = {x:x**2 for x in range(6)}\n",
    "print(squares)"
   ]
  },
  {
   "cell_type": "code",
   "execution_count": 35,
   "metadata": {},
   "outputs": [
    {
     "name": "stdout",
     "output_type": "stream",
     "text": [
      "{0: 0, 2: 4, 4: 16, 6: 36, 8: 64}\n"
     ]
    }
   ],
   "source": [
    "## Condition Dictionary Comprehension\n",
    "even = {x:x**2 for x in range(10) if x%2==0}\n",
    "print(even)"
   ]
  },
  {
   "cell_type": "code",
   "execution_count": 36,
   "metadata": {},
   "outputs": [
    {
     "name": "stdout",
     "output_type": "stream",
     "text": [
      "{1: 1, 2: 2, 3: 3, 4: 3}\n"
     ]
    }
   ],
   "source": [
    "##Practical Example\n",
    "##Use a dictionary to count the frequency of elements in list\n",
    "\n",
    "numbers = [1,2,2,3,3,3,4,4,4]\n",
    "frequency = {}\n",
    "\n",
    "for number in numbers:\n",
    "    if number in frequency:\n",
    "        frequency[number]+=1\n",
    "    else:\n",
    "        frequency[number] = 1\n",
    "print(frequency)\n"
   ]
  },
  {
   "cell_type": "code",
   "execution_count": 38,
   "metadata": {},
   "outputs": [
    {
     "name": "stdout",
     "output_type": "stream",
     "text": [
      "{'a': 1, 'b': 3, 'c': 4}\n"
     ]
    }
   ],
   "source": [
    "##Merge two dictionary into one\n",
    "dict_1 = {\"a\":1,\"b\":2}\n",
    "dict_2 = {'b':3,\"c\":4}\n",
    "merge_dict = {**dict_1,**dict_2}\n",
    "print(merge_dict)"
   ]
  },
  {
   "cell_type": "code",
   "execution_count": null,
   "metadata": {},
   "outputs": [],
   "source": []
  }
 ],
 "metadata": {
  "kernelspec": {
   "display_name": "Python 3",
   "language": "python",
   "name": "python3"
  },
  "language_info": {
   "codemirror_mode": {
    "name": "ipython",
    "version": 3
   },
   "file_extension": ".py",
   "mimetype": "text/x-python",
   "name": "python",
   "nbconvert_exporter": "python",
   "pygments_lexer": "ipython3",
   "version": "3.12.0"
  }
 },
 "nbformat": 4,
 "nbformat_minor": 2
}
